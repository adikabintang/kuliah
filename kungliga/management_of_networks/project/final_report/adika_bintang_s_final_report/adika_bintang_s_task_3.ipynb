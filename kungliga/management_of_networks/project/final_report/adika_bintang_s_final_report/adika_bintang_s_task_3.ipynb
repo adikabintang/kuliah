{
 "cells": [
  {
   "cell_type": "markdown",
   "metadata": {},
   "source": [
    "# Task III - Estimating SLA Conformance and Violation from Device Statistics\n",
    "\n",
    "## 1. Model Training - use Logistic Regression to train a classifier C with the training set. Provide the coefficients (Θ 0 , ..., Θ 12 ) of your model C. (Θ 0 is the offset.)"
   ]
  },
  {
   "cell_type": "markdown",
   "metadata": {},
   "source": [
    "Please add or correct following issues in your final report. \n",
    "\n",
    "- Compare the FN and FP and explain which one is more important form service provider's perspective? why? \n",
    "\n",
    "- Your naive estimator is not correct. Please correct it for final version. You need to compute the probability of having Y=1 in your training (P) (which you computed). Then you have to generate 1080 random numbers with probability of P and if it is grater than P set it to 1 otherwise 0. Then compute ERR for this values."
   ]
  },
  {
   "cell_type": "code",
   "execution_count": 1,
   "metadata": {},
   "outputs": [
    {
     "name": "stdout",
     "output_type": "stream",
     "text": [
      "1 The coefficient for runq-sz is -0.024\n",
      "2 The coefficient for %%memused is 0.033\n",
      "3 The coefficient for proc/s is 0.006\n",
      "4 The coefficient for cswch/s is -0.0\n",
      "5 The coefficient for all_%%usr is 0.004\n",
      "6 The coefficient for ldavg-1 is -0.001\n",
      "7 The coefficient for totsck is 0.009\n",
      "8 The coefficient for pgfree/s is -0.0\n",
      "9 The coefficient for plist-sz is -0.004\n",
      "10 The coefficient for file-nr is 0.001\n",
      "11 The coefficient for idel/s is -0.0\n",
      "12 The coefficient for tps is -0.003\n",
      "The intercept for our model is (teta 0) 0.0\n"
     ]
    }
   ],
   "source": [
    "import pandas as pd\n",
    "from sklearn.model_selection import train_test_split\n",
    "from sklearn.linear_model import LogisticRegression\n",
    "import matplotlib.pyplot as plt\n",
    "import numpy as np\n",
    "\n",
    "X = pd.read_csv('data/X.csv')\n",
    "Y = pd.read_csv('data/Y.csv')\n",
    "Y['TimeStamp'] = Y.TimeStamp.astype(int)\n",
    "\n",
    "X.index = pd.to_datetime(\n",
    "    X['TimeStamp'], unit='s')\n",
    "Y.index = pd.to_datetime(\n",
    "    Y['TimeStamp'], unit='s')\n",
    "\n",
    "X_train, X_test, y_train, y_test = train_test_split(X, Y, train_size=0.7)\n",
    "\n",
    "# minimum dispframes in SLA: 18 frames/sec\n",
    "min_disp_frames = 18.0\n",
    "\n",
    "# Labeling the y_training\n",
    "y_train_sla_label = np.array(\n",
    "    y_train['DispFrames'] >= min_disp_frames).astype(int)\n",
    "\n",
    "logisticRegr = LogisticRegression(C=1e5, solver='lbfgs', \n",
    "    multi_class='multinomial')\n",
    "\n",
    "X_train = X_train.drop(['TimeStamp'], axis=1)\n",
    "logisticRegr.fit(X_train, y_train_sla_label)\n",
    "\n",
    "for idx, col_name in enumerate(X_train.columns):\n",
    "    print(\"{} The coefficient for {} is {}\".format(idx+1, col_name,\n",
    "                                                   np.round(logisticRegr.coef_[0][idx], decimals=3)))\n",
    "\n",
    "intercept = np.round(logisticRegr.intercept_[0], decimals=3)\n",
    "print(\"The intercept for our model is (teta 0) {}\".format(intercept))"
   ]
  },
  {
   "cell_type": "markdown",
   "metadata": {},
   "source": [
    "## 2. Accuracy of the Classifiers C - Compute the classification error (ERR) on the test set for C."
   ]
  },
  {
   "cell_type": "code",
   "execution_count": 2,
   "metadata": {},
   "outputs": [
    {
     "name": "stdout",
     "output_type": "stream",
     "text": [
      "ERR of logistic regression: 0.16759259259259263\n"
     ]
    },
    {
     "data": {
      "image/png": "[encoded data removed]",
      "text/plain": [
       "<Figure size 432x288 with 2 Axes>"
      ]
     },
     "metadata": {
      "needs_background": "light"
     },
     "output_type": "display_data"
    }
   ],
   "source": [
    "from sklearn.metrics import confusion_matrix\n",
    "from sklearn.utils.multiclass import unique_labels\n",
    "\n",
    "# classify\n",
    "prediction_result = logisticRegr.predict(X_test.drop(['TimeStamp'], axis=1))\n",
    "y_test_merged = y_test.copy()\n",
    "y_test_merged['predicted_sla'] = np.array(prediction_result)\n",
    "\n",
    "# compute the confusion matrix, which includes the four numbers \n",
    "# True Positives (TP), True Negatives (TN), False Positives (FN), \n",
    "# and False Negatives (FN)\n",
    "def compute_err(y_test_merged):\n",
    "    arr = []\n",
    "    TP = 0\n",
    "    TN = 0\n",
    "    for idx, row in y_test_merged.iterrows():\n",
    "        if row['predicted_sla'] == 1:\n",
    "            if row['DispFrames'] >= min_disp_frames:\n",
    "                TP += 1\n",
    "                arr.append('TP')\n",
    "            else:\n",
    "                #FP += 1\n",
    "                arr.append('FP')\n",
    "        else:\n",
    "            if row['DispFrames'] < min_disp_frames:\n",
    "                TN += 1\n",
    "                arr.append('TN')\n",
    "            else:\n",
    "                #FN += 1\n",
    "                arr.append('FN')\n",
    "\n",
    "    y_test_merged['classification_error'] = np.array(arr)\n",
    "\n",
    "    # compute the classification error\n",
    "    err = 1 - (TP + TN) / len(y_test_merged.index)\n",
    "    return err\n",
    "\n",
    "print(\"ERR of logistic regression: {}\".format(compute_err(y_test_merged)))\n",
    "\n",
    "# example of plotting confusion map was taken from here:\n",
    "# https://scikit-learn.org/stable/auto_examples/model_selection/plot_confusion_matrix.html\n",
    "def plot_confusion_matrix(y_true, y_pred, classes,\n",
    "                          normalize=False,\n",
    "                          title=None,\n",
    "                          cmap=plt.cm.Blues):\n",
    "\n",
    "    # Compute confusion matrix\n",
    "    cm = confusion_matrix(y_true, y_pred)\n",
    "    # Only use the labels that appear in the data\n",
    "    \n",
    "    classes = classes[unique_labels(y_true.astype(int), y_pred.astype(int))]\n",
    "    \n",
    "    fig, ax = plt.subplots()\n",
    "    im = ax.imshow(cm, interpolation='nearest', cmap=cmap)\n",
    "    ax.figure.colorbar(im, ax=ax)\n",
    "    # We want to show all ticks...\n",
    "    ax.set(xticks=np.arange(cm.shape[1]),\n",
    "           yticks=np.arange(cm.shape[0]),\n",
    "           # ... and label them with the respective list entries\n",
    "           xticklabels=classes, yticklabels=classes,\n",
    "           title=title,\n",
    "           ylabel='True label',\n",
    "           xlabel='Predicted label')\n",
    "\n",
    "    # Rotate the tick labels and set their alignment.\n",
    "    plt.setp(ax.get_xticklabels(), rotation=45, ha=\"right\",\n",
    "             rotation_mode=\"anchor\")\n",
    "\n",
    "    # Loop over data dimensions and create text annotations.\n",
    "    fmt = '.2f' if normalize else 'd'\n",
    "    thresh = cm.max() / 2.\n",
    "    for i in range(cm.shape[0]):\n",
    "        for j in range(cm.shape[1]):\n",
    "            y_label_pos = i - 0.25 if i == 1 else i + 0.25\n",
    "            ax.text(j, y_label_pos, format(cm[i, j], fmt),\n",
    "                    ha=\"center\", va=\"center\",\n",
    "                    color=\"white\" if cm[i, j] > thresh else \"black\")\n",
    "    fig.tight_layout()\n",
    "    return ax\n",
    "\n",
    "# 1 if pass SLA\n",
    "# 0 if not pass SLA\n",
    "y_true = [ 1 if row['DispFrames'] >= min_disp_frames else 0 \n",
    "          for idx, row in y_test_merged.iterrows() ]\n",
    "class_names = np.array([0, 1]).astype(int)\n",
    "cm = confusion_matrix(y_true, prediction_result)\n",
    "# Plot non-normalized confusion matrix\n",
    "plot_confusion_matrix(np.array(y_true), prediction_result, classes=class_names,\n",
    "                      title='Confusion matrix, without normalization')\n",
    "plt.show()"
   ]
  },
  {
   "cell_type": "markdown",
   "metadata": {},
   "source": [
    "### Analysis\n",
    "\n",
    "This model, which is based on logistic regression, has classification error rate of 0.17129.\n",
    "\n",
    "The confusion matrix summarizes how successful the model is in classifying the data. \n",
    "\n",
    "The left-top element of the matrix has value 0 for both true label and predicted label. This is \"true negative\", i.e., the model successfully label the data as \"false\", and the real data is also \"false\". \n",
    "\n",
    "The right-top element of the matrix has 0 on true label, but 1 on predicted label. This is \"false positive\", i.e., the model predicts the value as true, yet the real data says it is false.\n",
    "\n",
    "The bottom-left element of the matrix has value 1 for the true label and 0 for predicted label. This is \"false negative\", i.e, the model predicts the value as false, yet the real data says it is true.\n",
    "\n",
    "The bottom-right element of the matrix has value 1 for both true label and predicted label. This is \"true positive\", i.e., the model successfully predicts the value as true, and the real data is also true.\n",
    "\n",
    "This confusion matrix shows that our logistic-based regression model can predict \"false\"/SLA violation correctly 416 times, and 132 times wrongly predict. It also shows that it is successfully predict \"true\"/passed SLA 479 times and 53 times has mistaken the prediction. These values (also the color; the darker the higher the value is) shows that the model is quite successful in predicting/classifying the data."
   ]
  },
  {
   "cell_type": "markdown",
   "metadata": {},
   "source": [
    "## 3. As a baseline for C, use a naı̈ve method which relies on Y values only. For each x ∈ X, the naı̈ve classifier predicts a value T rue with probability p and F alse with probability 1 − p. Compute p on the training set and the classification error for the naı̈ve classifier on the test set."
   ]
  },
  {
   "cell_type": "code",
   "execution_count": 5,
   "metadata": {},
   "outputs": [
    {
     "name": "stdout",
     "output_type": "stream",
     "text": [
      "sla_conform in training set: 1397\n",
      "all training set: 2520\n",
      "p: 0.5543650793650794\n",
      "ERR of naive classification: 0.010185185185185186\n"
     ]
    }
   ],
   "source": [
    "# p is the fraction of Y values that conform with the SLA\n",
    "sla_conform = len(y_train[y_train['DispFrames'] >= 18.0].index)\n",
    "print(\"sla_conform in training set: {}\".format(sla_conform))\n",
    "print(\"all training set: {}\".format(len(y_train.index)))\n",
    "p = sla_conform / len(y_train.index)\n",
    "print(\"p: {}\".format(p))\n",
    "\n",
    "# calculating classification error for the naı̈ve classifier\n",
    "import numpy\n",
    "\n",
    "# https://stackoverflow.com/questions/43092317/setting-probability-of-getting-a-random-number-1-or-2\n",
    "arr = []\n",
    "for i in range(0, 1080):\n",
    "    v = numpy.random.uniform(low=0.0, high=1.0)\n",
    "    arr.append(1 if v < p else 0)\n",
    "\n",
    "from collections import Counter\n",
    "res = Counter(arr)\n",
    "sla_conform_naive = res[1]\n",
    "sla_not_conform_naive = res[0]\n",
    "sla_conform_test = len(y_test[y_test['DispFrames'] >= 18.0].index)\n",
    "sla_not_conform_test = len(y_test.index) - sla_conform_test\n",
    "\n",
    "tp = min(sla_conform_naive, sla_conform_test)\n",
    "tn = min(sla_not_conform_naive, sla_not_conform_test)\n",
    "\n",
    "naive_err = 1 - (tp + tn) / len(y_test.index)\n",
    "print(\"ERR of naive classification: {}\".format(naive_err))"
   ]
  },
  {
   "cell_type": "markdown",
   "metadata": {},
   "source": [
    "## 4. Build a new classifier by extending the linear regression function developed in Task II with a check on the output, i.e., the Video Frame Rate"
   ]
  },
  {
   "cell_type": "code",
   "execution_count": 6,
   "metadata": {},
   "outputs": [
    {
     "name": "stdout",
     "output_type": "stream",
     "text": [
      "ERR of linear regression-based model: 0.15833333333333333\n"
     ]
    }
   ],
   "source": [
    "from sklearn.linear_model import LinearRegression\n",
    "\n",
    "regression_model = LinearRegression()\n",
    "regression_model.fit(X_train, y_train.drop(['TimeStamp'], axis=1))\n",
    "\n",
    "# predict with linear regression\n",
    "y_predict_linear_reg = regression_model.predict(X_test.drop(['TimeStamp'], axis=1))\n",
    "\n",
    "# then, the model built by linear regression is used to classify the SLA based on \n",
    "# Y values\n",
    "prediction_result_linear_reg = np.array(\n",
    "    np.where(y_predict_linear_reg >= min_disp_frames, 1, 0)).flatten()\n",
    "\n",
    "# classification error for this new classifier on the test set\n",
    "y_test_merged_w_linear_reg = y_test.copy()\n",
    "y_test_merged_w_linear_reg['predicted_sla'] = np.array(prediction_result_linear_reg)\n",
    "linear_reg_err = compute_err(y_test_merged_w_linear_reg)\n",
    "print(\"ERR of linear regression-based model: {}\".format(linear_reg_err))"
   ]
  },
  {
   "cell_type": "markdown",
   "metadata": {},
   "source": [
    "## The comparison of the classification errors of the models\n",
    "\n",
    "We have three models and their classification error values:\n",
    "\n",
    "- Logistic regression-based model's error: 0.17129\n",
    "- Naive (y values-only) error: 0.44907\n",
    "- Linear regression (and extended)-based model's error: 0.17222\n",
    "\n",
    "The classification error describes how reliable the model is. The higher the error value is, the less reliable the model will be. If we sort the error in increasing order, the sequence is as follows: logistic regression-based model, linear regression-based model, naive model. We can conclude that logistic regression-based and linear regression-based is quite reliable, but the naive model is not that reliable.\n",
    "\n",
    "The reason why the errors differ lies on how the model is build. The naive error only relies on the probability of y=1. The probability is taken from the training set. This is not reliable because of 2 reasons: the training set and the test set might not be evenly distributed and it does not take any x values into consideration.\n",
    "\n",
    "On the other hand, the regression model, both logistic and linear, takes x values into consideration. Most importantly, it tries to minimize the cost function when building the model (finding the coefficients) in order to be as precise as possible. This makes the regression-based models much reliable (i.e., smaller classification errors) than the naive model."
   ]
  }
 ],
 "metadata": {
  "kernelspec": {
   "display_name": "Python 3",
   "language": "python",
   "name": "python3"
  },
  "language_info": {
   "codemirror_mode": {
    "name": "ipython",
    "version": 3
   },
   "file_extension": ".py",
   "mimetype": "text/x-python",
   "name": "python",
   "nbconvert_exporter": "python",
   "pygments_lexer": "ipython3",
   "version": "3.7.3"
  }
 },
 "nbformat": 4,
 "nbformat_minor": 2
}
