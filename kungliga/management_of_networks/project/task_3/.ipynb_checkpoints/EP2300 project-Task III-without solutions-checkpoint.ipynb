{
 "cells": [
  {
   "cell_type": "markdown",
   "metadata": {},
   "source": [
    "# Using classifier to estimate the density of Video Frame Rate\n",
    "\n",
    "## 1.1 intruduction\n",
    "\n",
    "The objective of this task is to build a binary classifier function that estimates whether the VoD service conforms to the given SLA (see above) for specific device statistics X, or whether the service violates the SLA for a specific value X.\n",
    "\n",
    "You apply logistic regression to build the classifier. As in the previous task, build a test set and a training set from the trace data, containing 70% of the observations and 30% of the observations, respectively.\n",
    "\n",
    "As the figure in the example illustrates, logistic regression compute the probability of being in a specific class. The difference between logestic regression and linear regression is that we use sigmoid function which transfer the linear space of linear regression output to a nonlinear space. The output of the logistic regression is the probiblity so it is between 0 and 1.  \n",
    "\n",
    "In other words, when we use logistic regression as a binary classifer, we attempt to find the coefficients which minimize the cost function. The following shows the general form of logistic regression (The notation is based on Andrew Ng's courses). \n",
    "\n",
    "For one example $x^{(i)}$:\n",
    "$$z^{(i)} = w^T x^{(i)} + b \\tag{1}$$\n",
    "$$\\hat{y}^{(i)} = a^{(i)} = \\frac{1}{1+exp(z^{(i)})}\\tag{2}$$\n",
    "$$ \\mathcal{L}(a^{(i)}, y^{(i)}) =  - y^{(i)}  \\log(a^{(i)}) - (1-y^{(i)} )  \\log(1-a^{(i)})\\tag{3}$$\n",
    "\n",
    "The cost is then computed by summing over all training examples:\n",
    "$$ J = \\frac{1}{m} \\sum_{i=1}^m \\mathcal{L}(a^{(i)}, y^{(i)})\\tag{4}$$\n",
    "\n",
    "### Example 1"
   ]
  },
  {
   "cell_type": "code",
   "execution_count": 1,
   "metadata": {},
   "outputs": [
    {
     "name": "stdout",
     "output_type": "stream",
     "text": [
      "Automatically created module for IPython interactive environment\n"
     ]
    },
    {
     "data": {
      "image/png": "[encoded data removed]",
      "text/plain": [
       "<matplotlib.figure.Figure at 0x1038c3f28>"
      ]
     },
     "metadata": {},
     "output_type": "display_data"
    }
   ],
   "source": [
    "#http://scikit-learn.org/stable/auto_examples/linear_model/plot_logistic.html#sphx-glr-auto-examples-linear-model-plot-logistic-py\n",
    "print(__doc__)\n",
    "\n",
    "\n",
    "# Code source: Gael Varoquaux\n",
    "# License: BSD 3 clause\n",
    "\n",
    "import numpy as np\n",
    "import matplotlib.pyplot as plt\n",
    "\n",
    "from sklearn import linear_model\n",
    "\n",
    "# this is our test set, it's just a straight line with some\n",
    "# Gaussian noise\n",
    "xmin, xmax = -5, 5\n",
    "n_samples = 100\n",
    "np.random.seed(0)\n",
    "X = np.random.normal(size=n_samples)\n",
    "y = (X > 0).astype(np.float)\n",
    "X[X > 0] *= 4\n",
    "X += .3 * np.random.normal(size=n_samples)\n",
    "\n",
    "X = X[:, np.newaxis]\n",
    "# run the classifier\n",
    "clf = linear_model.LogisticRegression(C=1e5)\n",
    "clf.fit(X, y)\n",
    "\n",
    "# and plot the result\n",
    "plt.figure(1, figsize=(4, 3))\n",
    "plt.clf()\n",
    "plt.scatter(X.ravel(), y, color='black', zorder=20)\n",
    "X_test = np.linspace(-5, 10, 300)\n",
    "\n",
    "\n",
    "def model(x):\n",
    "    return 1 / (1 + np.exp(-x))\n",
    "loss = model(X_test * clf.coef_ + clf.intercept_).ravel()\n",
    "plt.plot(X_test, loss, color='red', linewidth=3)\n",
    "\n",
    "ols = linear_model.LinearRegression()\n",
    "ols.fit(X, y)\n",
    "plt.plot(X_test, ols.coef_ * X_test + ols.intercept_, linewidth=1)\n",
    "plt.axhline(.5, color='.5')\n",
    "\n",
    "plt.ylabel('y')\n",
    "plt.xlabel('X')\n",
    "plt.xticks(range(-5, 10))\n",
    "plt.yticks([0, 0.5, 1])\n",
    "plt.ylim(-.25, 1.25)\n",
    "plt.xlim(-4, 10)\n",
    "plt.legend(('Logistic Regression Model', 'Linear Regression Model'),\n",
    "           loc=\"lower right\", fontsize='small')\n",
    "plt.show()"
   ]
  },
  {
   "cell_type": "markdown",
   "metadata": {},
   "source": [
    "### Guide"
   ]
  },
  {
   "cell_type": "code",
   "execution_count": 2,
   "metadata": {},
   "outputs": [
    {
     "name": "stdout",
     "output_type": "stream",
     "text": [
      "True positives: 3\n",
      "True negatives: 1\n"
     ]
    }
   ],
   "source": [
    "import pandas as pd\n",
    "import numpy as np\n",
    "import matplotlib.pyplot as plt\n",
    "\n",
    "# Consider a pandas Data Frame with frame rate values\n",
    "A = pd.DataFrame({'DispFrames': [2, 15, 22, 22, 5]})\n",
    "\n",
    "# Add a new column to A with boolean values, indicating low rates\n",
    "A['low rate'] = A['DispFrames']<10\n",
    "\n",
    "# For arithmentic operations like + or * , True is interpreted as 1, False as 0\n",
    "# Count the low rate observations\n",
    "sum(A['low rate'])\n",
    "\n",
    "# Change the above column to have values 1 or 0 instead of True and False\n",
    "A['low rate'] = A['low rate']*1 \n",
    "\n",
    "# Compute and print true positives and true negatives of an experiment\n",
    "data = pd.DataFrame({'Obsvervations': [1, 1, 0, 0, 1], 'Predictions': [1, 1, 0, 1, 1],})\n",
    "TP = data['Obsvervations'] & data['Predictions']\n",
    "TN = 1-(data['Obsvervations'] | data['Predictions'])\n",
    "print('True positives: %i'%sum(TP)); \n",
    "print('True negatives: %i'%sum(TN)); \n",
    "\n",
    "# Create a Bernoulli trial using numpy.random.binomial(n, p, number_of_successes)\n",
    "# Here is the result of 20 coin flips:\n",
    "coin_flips = np.random.binomial(1, 0.5, 20)"
   ]
  },
  {
   "cell_type": "code",
   "execution_count": 3,
   "metadata": {},
   "outputs": [
    {
     "data": {
      "text/plain": [
       "((5, 2), (5, 2))"
      ]
     },
     "execution_count": 3,
     "metadata": {},
     "output_type": "execute_result"
    }
   ],
   "source": [
    "# Many sklearn methods like fit() or predict() accept Pandas series or data frame objects and convert them internally into NumPy ndarrays.\n",
    "# Some do not and give an error when given a Pandas object as argument.\n",
    "# You can convert a Pandas object as follows.\n",
    "\n",
    "A = pd.DataFrame({'DispFrames': [2, 15, 22, 22, 5], 'TimeStamp': [10, 20, 30, 40, 50]} )\n",
    "\n",
    "# A : Pandas data frame  --> A.values : Nympy ndarray\n",
    "\n",
    "#You can check the type of an object with type(): \n",
    "type(A), type(A.values)\n",
    "\n",
    "#You can check the shape of a structure with shape: \n",
    "A.shape, A.values.shape"
   ]
  },
  {
   "cell_type": "code",
   "execution_count": null,
   "metadata": {
    "collapsed": true
   },
   "outputs": [],
   "source": []
  }
 ],
 "metadata": {
  "kernelspec": {
   "display_name": "Python 3",
   "language": "python",
   "name": "python3"
  },
  "language_info": {
   "codemirror_mode": {
    "name": "ipython",
    "version": 3
   },
   "file_extension": ".py",
   "mimetype": "text/x-python",
   "name": "python",
   "nbconvert_exporter": "python",
   "pygments_lexer": "ipython3",
   "version": "3.7.3"
  }
 },
 "nbformat": 4,
 "nbformat_minor": 2
}
