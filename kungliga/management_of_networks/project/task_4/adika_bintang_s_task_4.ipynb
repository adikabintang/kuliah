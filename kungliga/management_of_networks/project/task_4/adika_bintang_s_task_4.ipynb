{
 "cells": [
  {
   "cell_type": "markdown",
   "metadata": {},
   "source": [
    "# Task IV - Reduce the Number of Device Statistics to Estimate the Service Metric"
   ]
  },
  {
   "cell_type": "markdown",
   "metadata": {},
   "source": [
    "## 1. Construct a training set and a test set from the trace as in Task III.\n",
    "\n",
    "## 2. Optimal Method\n",
    "- Compute a linear regression model for each of these subsets of the training set\n",
    "- compute NMAE of each model\n",
    "- histogram of NMAE\n",
    "- show the features with the smallest error\n",
    "- box plot of nmae for all models with 1, 2, ..., 12 features"
   ]
  },
  {
   "cell_type": "code",
   "execution_count": 7,
   "metadata": {},
   "outputs": [
    {
     "name": "stdout",
     "output_type": "stream",
     "text": [
      "the smallest NMAE (0.10332224) is the model with features:\n",
      "['runq-sz', '%%memused', 'cswch/s']\n"
     ]
    },
    {
     "data": {
      "image/png": "[encoded data removed]",
      "text/plain": [
       "<Figure size 432x288 with 1 Axes>"
      ]
     },
     "metadata": {
      "needs_background": "light"
     },
     "output_type": "display_data"
    },
    {
     "data": {
      "image/png": "[encoded data removed]",
      "text/plain": [
       "<Figure size 432x288 with 1 Axes>"
      ]
     },
     "metadata": {
      "needs_background": "light"
     },
     "output_type": "display_data"
    }
   ],
   "source": [
    "import itertools\n",
    "import pandas as pd\n",
    "from sklearn.model_selection import train_test_split\n",
    "from sklearn.linear_model import LinearRegression\n",
    "import matplotlib.pyplot as plt\n",
    "import numpy as np\n",
    "\n",
    "def subs(l):\n",
    "    res = []\n",
    "    for i in range(1, len(l) + 1):\n",
    "        for combo in itertools.combinations(l, i):\n",
    "            res.append(list(combo))\n",
    "    return res\n",
    "\n",
    "def get_nmae(y_predict, y_test):\n",
    "    m = len(y_test.index)\n",
    "    y_mean = y_test['DispFrames'].mean()\n",
    "    sum_abs_y_mean_predict = 0.0\n",
    "    i = 0\n",
    "    for _, row in y_test.iterrows():\n",
    "        sum_abs_y_mean_predict += abs(row['DispFrames'] - y_predict[i][0])\n",
    "        i += 1\n",
    "    \n",
    "    nmae = (sum_abs_y_mean_predict / m) / y_mean\n",
    "    return np.round(nmae, decimals=8)\n",
    "\n",
    "X = pd.read_csv('data/X.csv')\n",
    "Y = pd.read_csv('data/Y.csv')\n",
    "Y['TimeStamp'] = Y.TimeStamp.astype(int)\n",
    "X.index = pd.to_datetime(\n",
    "    X['TimeStamp'], unit='s')\n",
    "Y.index = pd.to_datetime(\n",
    "    Y['TimeStamp'], unit='s')\n",
    "\n",
    "feature_names = [\"runq-sz\", \"%%memused\", \"proc/s\", \"cswch/s\", \"all_%%usr\", \n",
    "    \"ldavg-1\", \"totsck\", \"pgfree/s\", \n",
    "    \"plist-sz\", \"file-nr\", \"idel/s\", \"tps\"]\n",
    "\n",
    "# this is for real\n",
    "# all_subset = subs(feature_names)\n",
    "\n",
    "# for testing only, so that my computer does not explode\n",
    "all_subset = subs([\"runq-sz\", \"%%memused\", \"proc/s\", \"cswch/s\"])\n",
    "\n",
    "all_nmae = []\n",
    "nmaes_boxplot_data = []\n",
    "min_nmaes_each_feature = []\n",
    "for subset in all_subset:\n",
    "    x_train, x_test, y_train, y_test = train_test_split(X[subset], \n",
    "        Y[[\"DispFrames\"]], train_size=0.7)\n",
    "    \n",
    "    # Compute a linear regression model for each of these subsets of the training set\n",
    "    regression_model = LinearRegression()\n",
    "    regression_model.fit(x_train, y_train)\n",
    "    y_predict = regression_model.predict(x_test)\n",
    "    \n",
    "    # compute NMAE of each model\n",
    "    nmae = get_nmae(y_predict, y_test)\n",
    "    all_nmae.append(nmae)\n",
    "    \n",
    "    if len(nmaes_boxplot_data) < len(subset):\n",
    "        nmaes_boxplot_data.append([nmae])\n",
    "    else:\n",
    "        nmaes_boxplot_data[len(subset) - 1].append(nmae)\n",
    "\n",
    "    # for instruction number 5\n",
    "    if len(min_nmaes_each_feature) < len(subset):\n",
    "        min_nmaes_each_feature.append(nmae)\n",
    "    else:\n",
    "        if nmae < min_nmaes_each_feature[len(subset) - 1]:\n",
    "            min_nmaes_each_feature[len(subset) - 1] = nmae\n",
    "\n",
    "# show the features with the smallest error\n",
    "min_nmae = min(all_nmae)\n",
    "print(\"the smallest NMAE ({}) is the model with features:\".format(min_nmae))\n",
    "print(all_subset[all_nmae.index(min_nmae)])\n",
    "\n",
    "# histogram of NMAE\n",
    "binwidth = 0.01\n",
    "plt.hist(all_nmae, \n",
    "    bins=np.arange(min(all_nmae), max(all_nmae) + binwidth, binwidth))\n",
    "plt.xlabel(\"NMAE\")\n",
    "plt.ylabel(\"Frequency\")\n",
    "plt.title(\"Histogram of NMAE\")\n",
    "plt.show()\n",
    "\n",
    "# box plot of nmae for all models with 1, 2, ..., 12 features\n",
    "fig7, ax7 = plt.subplots()\n",
    "ax7.set_title(\"NMAE for all models\")\n",
    "ax7.set_xlabel(\"Number of features\")\n",
    "ax7.set_ylabel(\"NMAE\")\n",
    "ax7.boxplot(nmaes_boxplot_data)\n",
    "plt.show()"
   ]
  },
  {
   "cell_type": "markdown",
   "metadata": {},
   "source": [
    "### Analysis\n",
    "\n",
    "The method used to find the features with the smallest error is by building a subset of each features, build the linear regression model, then find the smallest NMAE of all the models built. The features with the smallest error are: ...\n",
    "\n",
    "From the histogram, we can see the the highest number of error (NMAE) is ... with ... data. This means that the models mostly have ... error with various features applied to the model.\n",
    "\n",
    "The boxplot shows the relation between the number of features and the NMAE. The growth of the function resembles the inverse logarithmic function, with the NMAE seems to saturate when the number of features exceeds 4."
   ]
  },
  {
   "cell_type": "markdown",
   "metadata": {},
   "source": [
    "## 3. Method 2 (Heuristic method)\n",
    "- Rank the features according to the square of the correlation values (sort descending order)\n",
    "- Build twelve feature sets composed of the top k features, k = 1, ..., 12. The first feature set contains the top feature, the second feature set contains the top two features, etc\n",
    "- compute the linear regression model on the training set and compute the error\n",
    "- Produce a plot that shows the error value in function of the set size k"
   ]
  },
  {
   "cell_type": "code",
   "execution_count": 10,
   "metadata": {},
   "outputs": [
    {
     "name": "stdout",
     "output_type": "stream",
     "text": [
      "Rank of the features according to the square of the correlation values:\n",
      "plist-sz\n",
      "totsck\n",
      "runq-sz\n",
      "ldavg-1\n",
      "cswch/s\n",
      "file-nr\n",
      "all_%%usr\n",
      "%%memused\n",
      "idel/s\n",
      "proc/s\n",
      "pgfree/s\n",
      "tps\n"
     ]
    },
    {
     "data": {
      "image/png": "[encoded data removed]",
      "text/plain": [
       "<Figure size 432x288 with 1 Axes>"
      ]
     },
     "metadata": {
      "needs_background": "light"
     },
     "output_type": "display_data"
    }
   ],
   "source": [
    "x_train, x_test, y_train, y_test = train_test_split(X, \n",
    "        Y[[\"DispFrames\"]], train_size=0.7)\n",
    "\n",
    "m = len(x_train.index)\n",
    "\n",
    "correlation_square_map = {}\n",
    "correlation_map = {}\n",
    "for feature in feature_names:\n",
    "    x_mean = x_train[feature].mean()\n",
    "    y_mean = y_train[\"DispFrames\"].mean()\n",
    "    x_std = x_train[feature].std()\n",
    "    y_std = y_train[\"DispFrames\"].std()\n",
    "    sum_all = 0.0\n",
    "    \n",
    "    for idx, xi in x_train.iterrows():\n",
    "        sum_all += ((xi[feature] - x_mean) * (y_train[\"DispFrames\"][idx])) \\\n",
    "            / (x_std * y_std)\n",
    "    \n",
    "    correlation = sum_all / m\n",
    "    correlation_square_map[feature] = correlation ** 2\n",
    "    correlation_map[feature] = correlation\n",
    "\n",
    "# Rank the features according to the square of the correlation values (sort descending order) \n",
    "sorted_correlation_sq_tuple = sorted(correlation_square_map.items(), key=lambda kv: kv[1],\n",
    "    reverse=True)\n",
    "sorted_feature = [feature[0] for feature in sorted_correlation_sq_tuple]\n",
    "print(\"Rank of the features according to the square of the correlation values:\")\n",
    "for feature in sorted_feature:\n",
    "    print(feature)\n",
    "\n",
    "all_nmaes = []\n",
    "for i in range(1, len(sorted_feature) + 1):\n",
    "    # Build twelve feature sets composed of the top k features\n",
    "    # compute the linear regression model on the training set and compute the error\n",
    "    regression_model = LinearRegression()\n",
    "    regression_model.fit(x_train[sorted_feature[0:i]], y_train)\n",
    "    y_predict = regression_model.predict(x_test[sorted_feature[0:i]])\n",
    "    nmae = get_nmae(y_predict, y_test)\n",
    "    all_nmaes.append(nmae)\n",
    "\n",
    "# Produce a plot that shows the error value in function of the set size k\n",
    "plt.plot(range(1, len(all_nmaes) + 1), all_nmaes)\n",
    "plt.xlabel(\"set size (k)\")\n",
    "plt.ylabel(\"NMAE\")\n",
    "plt.title(\"The error value in function of the set size k\")\n",
    "plt.show()"
   ]
  },
  {
   "cell_type": "markdown",
   "metadata": {},
   "source": [
    "### Analysis\n",
    "\n",
    "The correlation values calculated is within the range [-1, +1]. The rank of the correlation values presented is the square of the correlation values, which means all features ranked is positive values. By ranking the square of the correlation values, it is expected to see how each features contribute to the estimated values.\n",
    "\n",
    "Rank of the features according to the square of the correlation values:\n",
    "plist-sz\n",
    "totsck\n",
    "runq-sz\n",
    "ldavg-1\n",
    "cswch/s\n",
    "file-nr\n",
    "all_%%usr\n",
    "%%memused\n",
    "idel/s\n",
    "proc/s\n",
    "pgfree/s\n",
    "tps\n",
    "\n",
    "Thsis heuristic method also shows how many features we need to build such a reliable model in a heuristic way. If the number of features included in a model is less then 6, the NMAE is relatively high. If the number of features is more than 6, the NMAE is steeply reduced. We can say that 8 features is the good number of features to build a model, whereas if we give more than 8, it will not significantly improve the model."
   ]
  },
  {
   "cell_type": "markdown",
   "metadata": {},
   "source": [
    "## 4 Correlation matrix is a table showing the correlation between variables"
   ]
  },
  {
   "cell_type": "code",
   "execution_count": 11,
   "metadata": {},
   "outputs": [
    {
     "data": {
      "image/png": "[encoded data removed]",
      "text/plain": [
       "<Figure size 288x1152 with 2 Axes>"
      ]
     },
     "metadata": {
      "needs_background": "light"
     },
     "output_type": "display_data"
    }
   ],
   "source": [
    "sorted_correlation = sorted(correlation_map.items(), key=lambda kv: kv[1],\n",
    "    reverse=True)\n",
    "sorted_feature = [feature[0] for feature in sorted_correlation]\n",
    "sorted_correlation = [[val[1]] for val in sorted_correlation]\n",
    "plt.matshow(sorted_correlation, cmap='RdPu')\n",
    "plt.colorbar()\n",
    "\n",
    "y_pos = np.arange(len(sorted_correlation))\n",
    "plt.yticks(y_pos, sorted_feature)\n",
    "\n",
    "x_pos = [1]\n",
    "plt.xticks(x_pos, [\"DispFrames\"])\n",
    "\n",
    "plt.show()"
   ]
  },
  {
   "cell_type": "markdown",
   "metadata": {},
   "source": [
    "## 5. Compare the optimal method with the heuristic method\n",
    "\n",
    "- A single plot with two curves: The vertical axis is NMAE and horizontal axis is the size k of the feature set.\n",
    "  - The first curve shows the minimum error of the optimal method for feature sets of size k\n",
    "  - The second curve shows the error of heuristic method for the sets with the top k features"
   ]
  },
  {
   "cell_type": "code",
   "execution_count": 12,
   "metadata": {},
   "outputs": [
    {
     "data": {
      "image/png": "[encoded data removed]",
      "text/plain": [
       "<Figure size 432x288 with 1 Axes>"
      ]
     },
     "metadata": {
      "needs_background": "light"
     },
     "output_type": "display_data"
    }
   ],
   "source": [
    "plt.plot(range(1, len(min_nmaes_each_feature) + 1), min_nmaes_each_feature, label='Optimal Method')\n",
    "plt.plot(range(1, len(min_nmaes_each_feature) + 1), \n",
    "    all_nmaes[0:len(min_nmaes_each_feature)], label='Heuristic Method')\n",
    "plt.legend()\n",
    "plt.show()"
   ]
  },
  {
   "cell_type": "code",
   "execution_count": null,
   "metadata": {},
   "outputs": [],
   "source": []
  }
 ],
 "metadata": {
  "kernelspec": {
   "display_name": "Python 3",
   "language": "python",
   "name": "python3"
  },
  "language_info": {
   "codemirror_mode": {
    "name": "ipython",
    "version": 3
   },
   "file_extension": ".py",
   "mimetype": "text/x-python",
   "name": "python",
   "nbconvert_exporter": "python",
   "pygments_lexer": "ipython3",
   "version": "3.7.3"
  }
 },
 "nbformat": 4,
 "nbformat_minor": 2
}
