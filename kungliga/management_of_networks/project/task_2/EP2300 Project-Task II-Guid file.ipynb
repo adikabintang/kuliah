{
 "cells": [
  {
   "cell_type": "markdown",
   "metadata": {
    "collapsed": true
   },
   "source": [
    "# 1. Estimating  Service Metrics from Device Statistics\n",
    "\n",
    "The objective of this task is to estimate the frame rate of a VoD service from the device statistics of a VoD server (see Figure 1). Our approach is to gather observations from the system and apply linear regression on this data to estimate the service metric $Y$ from device statistics $X$. For this task, we use the trace with 3600 observations described above. The device statistics are described by the feature set in table (a), and the service metric is shown in table (b). \n",
    "\n",
    "Your task is to compute (i.e., to train) a linear model $M$ that accurately maps device statistics onto service metrics. \n",
    "\n",
    "You train and test your model $M$ with the so-called validation-set technique. This technique entails that you split the set of observations into two parts: the  $\\textit{training set}$ for computing the model $M$ and the  $\\textit{test set}$ for evaluating the accuracy of $M$. From the complete set of observations, you select uniformly at random 70% of the observations (i.e., 2520 observations) to form the training set and then assign the remaining 30% (i.e., 1080 observations) to the test set.\n",
    "\n",
    "#### Table (a):\n",
    "| Field ID | Description                     |\n",
    "|----------|---------------------------------|\n",
    "| runq-sz  | Run queue length                |\n",
    "|%%memused | Percentage of used memory       |\n",
    "|  proc/s  | Rate of process creation        |\n",
    "|all\\_%%usr| Percentage of CPU utilization   |\n",
    "| ldavg/1  | Load average for the last minute|\n",
    "| totsck   | Number of used sockets          |\n",
    "| pgfree/s | Rate of freeing pages           |\n",
    "| plist-sz | Number of tasks in the task list|\n",
    "| file-nr  | Number of file handles          |\n",
    "\n",
    "\n",
    "#### Table (b):\n",
    "| Field ID   | Description                  |\n",
    "|------------|------------------------------|\n",
    "| DispFrames | Video Frame Rate             |"
   ]
  },
  {
   "cell_type": "markdown",
   "metadata": {},
   "source": [
    "## 1.1 Evaluate the Accuracy of Service Metric Estimation\n",
    "\n",
    "Linear regression is a method that assume there is a linear relation between Y (service metrics) and X (device statistics). If X has n features then we can write the linear relation as following:\n",
    "\n",
    "\\begin{equation*}\n",
    "Y = w_1*x_1+w_2*x_2+...+b\n",
    "\\end{equation*}\n",
    "where W is the weights vector and b is the bias. The example 1 shows a simple implementation of linear regression. Example 1 shows how we use linear regression to fit a linear model to our dataset. \n",
    "\n",
    "In this part you need to change examples in a way that:\n",
    "\n",
    "1) Use linear regression to train a model M with the training set. Provide coefficients $(w_1, w_2, ...)$ and bias b of your model M.\n",
    "\n",
    "2) To assess the accuracy of the estimate error of M over test set. We define the estimate error as the Normalized Mean Absolute Error (NMAE) which is defined as $\\frac{1}{\\bar{y}}(\\frac{1}{m}\\sum\\limits_{i=1}^{m}|y_i-\\hat{y}_i|)$, where $\\hat{y}_i$ is the model estimation for the measured service metrics $y_i$, and $\\bar{y}$ is the average of the observations $y_i$ of the test set, which is size of m=1080 [1]. Note that $\\hat{y}_i=M(y_i)$. As a baseline for M, use a $naive$ method which relies on Y values only. For each x in X it predicts a constant value $\\bar{y}$ which is the sample mean of samples $y_i$ in training set. Compute $\\bar{y}$ for the naive method for the training set and compute the NMAE for the test set.\n",
    "\n",
    "3) Produce a time series plot that shows both the measurements and the model estimation for M for the Video Frame Rate values in the test set (see example of such a plot in Figure 4(a) of [1]). Show also the prediction of the naive method.\n",
    "\n",
    "4) Produce a density plot and a histogram for the Video Frame Rate values in the test set. Set the bin size of the histogram to 1 frame. \n",
    "\n",
    "5) Produce a density plot for the prediction error $y_i-\\hat{y}_i$ in the test set.\n",
    "\n",
    "6) Based on the above figure and graphs, discuss the accuracy of estimating the Video Frame Rate.\n",
    "### Example 1"
   ]
  },
  {
   "cell_type": "code",
   "execution_count": 60,
   "metadata": {},
   "outputs": [
    {
     "name": "stdout",
     "output_type": "stream",
     "text": [
      "Coefficients: \n",
      " [ 938.24]\n",
      "Mean squared error: 2548.07\n",
      "Variance score: 0.47\n"
     ]
    },
    {
     "data": {
      "image/png": "[encoded data removed]",
      "text/plain": [
       "<matplotlib.figure.Figure at 0x1a1cf56b38>"
      ]
     },
     "metadata": {},
     "output_type": "display_data"
    }
   ],
   "source": [
    "#http://scikit-learn.org/stable/auto_examples/linear_model/plot_ols.html\n",
    "\n",
    "import matplotlib.pyplot as plt\n",
    "import numpy as np\n",
    "from sklearn import datasets, linear_model\n",
    "from sklearn.metrics import mean_squared_error, r2_score\n",
    "\n",
    "# Load the diabetes dataset\n",
    "diabetes = datasets.load_diabetes()\n",
    "\n",
    "\n",
    "# Use only one feature\n",
    "diabetes_X = diabetes.data[:, np.newaxis, 2]\n",
    "\n",
    "# Split the data into training/testing sets\n",
    "diabetes_X_train = diabetes_X[:-20]\n",
    "diabetes_X_test = diabetes_X[-20:]\n",
    "\n",
    "# Split the targets into training/testing sets\n",
    "diabetes_y_train = diabetes.target[:-20]\n",
    "diabetes_y_test = diabetes.target[-20:]\n",
    "\n",
    "# Create linear regression object\n",
    "regr = linear_model.LinearRegression()\n",
    "\n",
    "# Train the model using the training sets\n",
    "regr.fit(diabetes_X_train, diabetes_y_train)\n",
    "\n",
    "# Make predictions using the testing set\n",
    "diabetes_y_pred = regr.predict(diabetes_X_test)\n",
    "\n",
    "# The coefficients\n",
    "print('Coefficients: \\n', regr.coef_)\n",
    "# The mean squared error\n",
    "print(\"Mean squared error: %.2f\"\n",
    "      % mean_squared_error(diabetes_y_test, diabetes_y_pred))\n",
    "# Explained variance score: 1 is perfect prediction\n",
    "print('Variance score: %.2f' % r2_score(diabetes_y_test, diabetes_y_pred))\n",
    "\n",
    "# Plot outputs\n",
    "plt.scatter(diabetes_X_test, diabetes_y_test,  color='black')\n",
    "plt.plot(diabetes_X_test, diabetes_y_pred, color='blue', linewidth=3)\n",
    "\n",
    "plt.xticks(())\n",
    "plt.yticks(())\n",
    "\n",
    "plt.show()"
   ]
  },
  {
   "cell_type": "markdown",
   "metadata": {},
   "source": [
    "### Example 2\n",
    "\n",
    "In this example we train the linear model and then use it to predict service metrics for test set. We use the results to assess the accuracy of this linear model."
   ]
  },
  {
   "cell_type": "code",
   "execution_count": 61,
   "metadata": {
    "collapsed": true
   },
   "outputs": [],
   "source": [
    "# Read external data into the program\n",
    "\n",
    "import pandas as pd\n",
    "\n",
    "# Read X,Y traces into pandas DataFrames named X,Y\n",
    "X = pd.read_csv('X.csv')\n",
    "Y = pd.read_csv('Y.csv')"
   ]
  },
  {
   "cell_type": "code",
   "execution_count": 62,
   "metadata": {
    "collapsed": true
   },
   "outputs": [],
   "source": [
    "# Producing training set and test set\n",
    "\n",
    "\n",
    "# Here is how you can create a single frame with selected columns\n",
    "\n",
    "X_features = ['plist-sz', 'file-nr']\n",
    "XY = pd.concat([X[X_features], Y['DispFrames']], axis=1)\n",
    "\n",
    "\n",
    "# Split XY into training set and test set of equal size\n",
    "\n",
    "from sklearn.model_selection import train_test_split\n",
    "train, test = train_test_split(XY, test_size = 0.5)\n",
    "\n",
    "# Sort the train and test sets after index (which became unsorted through sampling)\n",
    "train = train.sort_index(axis=0)\n",
    "test = test.sort_index(axis=0)\n",
    "\n",
    "# Extract X,Y components from test and train sets\n",
    "X_train = train[X_features]; X_test = test[X_features]\n",
    "Y_train = train['DispFrames']; Y_test = test['DispFrames']"
   ]
  },
  {
   "cell_type": "code",
   "execution_count": 63,
   "metadata": {},
   "outputs": [
    {
     "name": "stdout",
     "output_type": "stream",
     "text": [
      "Coefficients: [-0.01 -0.01]\n",
      "Intercept: 44.0374640001\n",
      "Mean Squared Error (MSE): 8.97\n"
     ]
    }
   ],
   "source": [
    "# Computing and evaluating a linear model\n",
    "\n",
    "import numpy as np\n",
    "\n",
    "from sklearn import linear_model\n",
    "\n",
    "# Create linear regression object\n",
    "regr = linear_model.LinearRegression()\n",
    "\n",
    "# Train the model using the training set\n",
    "regr.fit(X_train, Y_train)\n",
    "\n",
    "# Print the model coefficients\n",
    "np.set_printoptions(precision=2)\n",
    "print(\"Coefficients:\", regr.coef_)\n",
    "print(\"Intercept:\", regr.intercept_)\n",
    "\n",
    "# Compute the mean squared error of the model over the test set\n",
    "MSE = np.mean((regr.predict(X_test) - Y_test) ** 2)\n",
    "print(\"Mean Squared Error (MSE): %.2f\" %MSE)"
   ]
  },
  {
   "cell_type": "markdown",
   "metadata": {},
   "source": [
    "## 1.2 Relation between Estimation Accuracy and size of training set"
   ]
  },
  {
   "cell_type": "markdown",
   "metadata": {
    "collapsed": true
   },
   "source": [
    "In this section we attemp to find the relation of the size of training set and accuracy of the model.\n",
    "\n",
    "a) From the training set with 2520 observation, create six training sets by selecting uniformly at random 50,100,200, 500,1000 and 2520 observations (which is the original set).\n",
    "\n",
    "b) Train a linear model and compute the NMAE for each model for the original test set with 1080 observations.\n",
    "\n",
    "c) Perform the above 50 times, so you train models for 50 different subsets of a given size.\n",
    "\n",
    "d) Produce a plot that shows NMAE for M against the size of the training set. Use error bars or box plots to show the range of the NMAE values for a given set size.\n",
    "\n",
    "e) Based on the above, discuss the relationship between the accuracy of the model estimation and the training set."
   ]
  },
  {
   "cell_type": "markdown",
   "metadata": {
    "collapsed": true
   },
   "source": [
    "### Guide "
   ]
  },
  {
   "cell_type": "code",
   "execution_count": 32,
   "metadata": {},
   "outputs": [
    {
     "data": {
      "image/png": "[encoded data removed]",
      "text/plain": [
       "<matplotlib.figure.Figure at 0x1a1c511898>"
      ]
     },
     "metadata": {},
     "output_type": "display_data"
    }
   ],
   "source": [
    "# Producing models for randomly selected training sets\n",
    "\n",
    "# Produce a training set using 100 random sample from X train\n",
    "# Evaluate the model on the test set X_test, Y_test by computing MSE\n",
    "# Perform the above 50 times\n",
    "\n",
    "# define the result vector for the evaluation\n",
    "MSE = pd.Series(index=range(0,50))\n",
    "\n",
    "for i in range(0, 50):\n",
    "    # Split X,Y into training set and test set\n",
    "    train, test = train_test_split(XY, test_size = 3500./3600.)\n",
    "\n",
    "    # Split train and test sets into X,Y components\n",
    "    X_train = train[['plist-sz', 'file-nr']]; X_test = test[['plist-sz', 'file-nr']]\n",
    "    Y_train = train['DispFrames']; Y_test = test['DispFrames']\n",
    "\n",
    "    # Create linear regression object\n",
    "    regr = linear_model.LinearRegression()\n",
    "\n",
    "    # Train the model using the training sets\n",
    "    regr.fit(X_train, Y_train)\n",
    "\n",
    "    # Compute MSE \n",
    "    MSE[i] = np.mean((regr.predict(X_test) - Y_test) ** 2)\n",
    "    \n",
    "    \n",
    "# Show the distribution of the MSE values\n",
    "import matplotlib.pyplot as plt\n",
    "MSE.plot.box(title=\"MSE Values for training sets with 100 randomly selected observations; 50 runs\"); plt.show()"
   ]
  },
  {
   "cell_type": "code",
   "execution_count": null,
   "metadata": {
    "collapsed": true
   },
   "outputs": [],
   "source": []
  }
 ],
 "metadata": {
  "kernelspec": {
   "display_name": "Python 3",
   "language": "python",
   "name": "python3"
  },
  "language_info": {
   "codemirror_mode": {
    "name": "ipython",
    "version": 3
   },
   "file_extension": ".py",
   "mimetype": "text/x-python",
   "name": "python",
   "nbconvert_exporter": "python",
   "pygments_lexer": "ipython3",
   "version": "3.7.3"
  }
 },
 "nbformat": 4,
 "nbformat_minor": 2
}
